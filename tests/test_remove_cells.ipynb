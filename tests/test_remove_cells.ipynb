{
 "cells": [
  {
   "cell_type": "markdown",
   "metadata": {},
   "source": [
    "This notebook tests that empty cells or cells with only spaces/tabs/newlines should be deleted.  \n",
    "If cell have any metadata or output that not striped because of 'init_cell' or 'keep_output' or another readons then such cell will not be removed"
   ]
  },
  {
   "cell_type": "markdown",
   "metadata": {},
   "source": [
    "Next cell has:\n",
    "1. ```metadata = {\"init_cell\": false, \"keep_output\": false}```\n",
    "2. **will remove cell**"
   ]
  },
  {
   "cell_type": "code",
   "execution_count": 1,
   "metadata": {
    "init_cell": false,
    "keep_output": false
   },
   "outputs": [],
   "source": []
  },
  {
   "cell_type": "markdown",
   "metadata": {},
   "source": [
    "Next cell has:\n",
    "1. ```metadata = {\"init_cell\": false, \"keep_output\": false}```\n",
    "2. **will remove cell**"
   ]
  },
  {
   "cell_type": "code",
   "execution_count": 2,
   "metadata": {
    "init_cell": false,
    "keep_output": false
   },
   "outputs": [],
   "source": [
    "    \n",
    "    \n",
    "    "
   ]
  },
  {
   "cell_type": "markdown",
   "metadata": {},
   "source": [
    "Next cell has:\n",
    "1. ```metadata = {\"init_cell\": true}```\n",
    "2. **will not remove cell ('init_cell': true)**"
   ]
  },
  {
   "cell_type": "code",
   "execution_count": 3,
   "metadata": {
    "init_cell": true,
    "keep_output": false
   },
   "outputs": [],
   "source": [
    "    \n",
    "    \n",
    "    "
   ]
  },
  {
   "cell_type": "markdown",
   "metadata": {},
   "source": [
    "Next cell has:\n",
    "1. ```metadata = {\"keep_output\": true}```\n",
    "2. **will not remove cell ('keep_output': true)**"
   ]
  },
  {
   "cell_type": "code",
   "execution_count": 4,
   "metadata": {
    "keep_output": true
   },
   "outputs": [],
   "source": [
    "    \n",
    "    \n",
    "    "
   ]
  },
  {
   "cell_type": "markdown",
   "metadata": {},
   "source": [
    "Next cell has:\n",
    "1. ```metadata = {\"tags\": [\"some_tag\"]}```\n",
    "2. **will not remove cell (has unremoved tag)**"
   ]
  },
  {
   "cell_type": "code",
   "execution_count": 5,
   "metadata": {
    "tags": [
     "some_tag"
    ]
   },
   "outputs": [],
   "source": [
    "    \n",
    "    \n",
    "    "
   ]
  },
  {
   "cell_type": "markdown",
   "metadata": {},
   "source": [
    "Next cell has:\n",
    "1. ```metadata = {}```\n",
    "2. **will not remove cell: source is not space-only**"
   ]
  },
  {
   "cell_type": "code",
   "execution_count": 6,
   "metadata": {},
   "outputs": [],
   "source": [
    "    \n",
    "    # some value\n",
    "    "
   ]
  }
 ],
 "metadata": {
  "celltoolbar": "Edit Metadata",
  "kernelspec": {
   "display_name": "Python 2",
   "language": "python",
   "name": "python2"
  },
  "language_info": {
   "codemirror_mode": {
    "name": "ipython",
    "version": 2
   },
   "file_extension": ".py",
   "mimetype": "text/x-python",
   "name": "python",
   "nbconvert_exporter": "python",
   "pygments_lexer": "ipython2",
   "version": "2.7.11"
  }
 },
 "nbformat": 4,
 "nbformat_minor": 1
}
